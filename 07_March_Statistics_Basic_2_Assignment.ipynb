{
  "nbformat": 4,
  "nbformat_minor": 0,
  "metadata": {
    "colab": {
      "provenance": []
    },
    "kernelspec": {
      "name": "python3",
      "display_name": "Python 3"
    },
    "language_info": {
      "name": "python"
    }
  },
  "cells": [
    {
      "cell_type": "markdown",
      "source": [
        "Q1. What are the three measures of central tendency?"
      ],
      "metadata": {
        "id": "vVUyeOD-tlgG"
      }
    },
    {
      "cell_type": "markdown",
      "source": [
        "Answer:-\n",
        "\n",
        "The three main measures of central tendency are:\n",
        "\n",
        "1.Mean (Average):\n",
        "\n",
        "Definition: The sum of all data values divided by the number of data points.\n",
        "\n",
        "Usage: Provides a central value for a dataset, particularly useful for data with a normal distribution.\n",
        "\n",
        "Example: If the test scores are 80, 85, 90, 95, and 100, the mean is (80 + 85 + 90 + 95 + 100) / 5 = 90.\n",
        "\n",
        "2.Median:\n",
        "\n",
        "Definition: The middle value in a sorted dataset.\n",
        "\n",
        "Usage: Represents the central point of a dataset, especially effective for skewed distributions as it is not affected by outliers.\n",
        "\n",
        "Example: For the data set 3, 5, 7, 8, and 12, the median is 7.\n",
        "\n",
        "3.Mode:\n",
        "\n",
        "Definition: The value that appears most frequently in a dataset.\n",
        "\n",
        "Usage: Useful for identifying the most common value in categorical data or in datasets with multiple modes.\n",
        "\n",
        "Example: In the data set 2, 4, 4, 6, 8, the mode is 4, as it appears most frequently."
      ],
      "metadata": {
        "id": "8_-oOxB6sSxT"
      }
    },
    {
      "cell_type": "markdown",
      "source": [
        "Q2. What is the difference between the mean, median, and mode? How are they used to measure the\n",
        "central tendency of a dataset?"
      ],
      "metadata": {
        "id": "RGEQOab_sj6x"
      }
    },
    {
      "cell_type": "markdown",
      "source": [
        "Answer:-\n",
        "\n",
        "Mean, Median, and Mode: Key Differences and Usage\n",
        "\n",
        "1.Mean (Average)\n",
        "\n",
        "Definition: The mean is the sum of all data values divided by the number of data points.\n",
        "\n",
        "Calculation:\n",
        "\n",
        "Mean =  ∑Data Points / Number of Data Points\n",
        "\n",
        "Usage: The mean provides a central value for a dataset and is especially useful for data with a normal distribution. It can be influenced by outliers and skewed data, making it less robust in such cases.\n",
        "\n",
        "Example: For the dataset [10, 20, 30, 40, 50], the mean is\n",
        "10+20+30+40+50 / 5= 30\n",
        "\n",
        "2.Median\n",
        "\n",
        "Definition: The median is the middle value in a sorted dataset.\n",
        "\n",
        "Calculation: Arrange the data in ascending order and find the middle value. If the number of data points is odd, the median is the middle number. If even, it is the average of the two middle numbers.\n",
        "\n",
        "Usage: The median is used to represent the central point of a dataset, especially effective for skewed distributions as it is not affected by outliers.\n",
        "\n",
        "Example: For the dataset [3, 5, 7, 8, 12], the median is 7. For the dataset [3, 5, 7, 8], the median is 5+7 / 2 = 6.\n",
        "\n",
        "3.Mode\n",
        "\n",
        "Definition: The mode is the value that appears most frequently in a dataset.\n",
        "\n",
        "Calculation: Identify the most frequently occurring value(s) in the dataset.\n",
        "\n",
        "Usage: The mode is useful for identifying the most common value in categorical data or datasets with multiple modes (multimodal distributions). It is the only measure of central tendency that can be used with nominal data.\n",
        "\n",
        "Example: In the dataset [2, 4, 4, 6, 8], the mode is 4, as it appears most frequently.\n",
        "Summary of Usage\n",
        "\n",
        "1.Mean: Best for datasets without extreme outliers, providing an overall average.\n",
        "\n",
        "2.Median: Best for skewed datasets or those with outliers, as it represents the middle point.\n",
        "\n",
        "3.Mode: Best for identifying the most common value, especially in categorical data."
      ],
      "metadata": {
        "id": "hzsYAPcVsl1I"
      }
    },
    {
      "cell_type": "markdown",
      "source": [
        "Q3. Measure the three measures of central tendency for the given height data:\n",
        "[178,177,176,177,178.2,178,175,179,180,175,178.9,176.2,177,172.5,178,176.5]"
      ],
      "metadata": {
        "id": "dP12JAL5vT3S"
      }
    },
    {
      "cell_type": "markdown",
      "source": [
        "Answer:-"
      ],
      "metadata": {
        "id": "GjDz1J9uv1B7"
      }
    },
    {
      "cell_type": "code",
      "source": [
        "heights = [178,177,176,177,178.2,178,175,179,180,175,178.9,176.2,177,172.5,178,176.5]\n",
        "heights"
      ],
      "metadata": {
        "colab": {
          "base_uri": "https://localhost:8080/"
        },
        "id": "dwZeb5Dxv2Xl",
        "outputId": "7654b07f-b10e-4ca1-8c60-5c3b5061f249"
      },
      "execution_count": 1,
      "outputs": [
        {
          "output_type": "execute_result",
          "data": {
            "text/plain": [
              "[178,\n",
              " 177,\n",
              " 176,\n",
              " 177,\n",
              " 178.2,\n",
              " 178,\n",
              " 175,\n",
              " 179,\n",
              " 180,\n",
              " 175,\n",
              " 178.9,\n",
              " 176.2,\n",
              " 177,\n",
              " 172.5,\n",
              " 178,\n",
              " 176.5]"
            ]
          },
          "metadata": {},
          "execution_count": 1
        }
      ]
    },
    {
      "cell_type": "markdown",
      "source": [
        "1.Mean"
      ],
      "metadata": {
        "id": "Qhoc3qp2wAci"
      }
    },
    {
      "cell_type": "code",
      "source": [
        "import numpy as np\n",
        "heights_mean = np.mean(heights)\n",
        "print(f'Mean for given height data is {heights_mean}')"
      ],
      "metadata": {
        "colab": {
          "base_uri": "https://localhost:8080/"
        },
        "id": "sD_g6Vxav5BI",
        "outputId": "7a6a17e1-948b-4093-88c3-18faba24f8e0"
      },
      "execution_count": 2,
      "outputs": [
        {
          "output_type": "stream",
          "name": "stdout",
          "text": [
            "Mean for given height data is 177.01875\n"
          ]
        }
      ]
    },
    {
      "cell_type": "markdown",
      "source": [
        "2.Median"
      ],
      "metadata": {
        "id": "I6WPPmOUwH4h"
      }
    },
    {
      "cell_type": "code",
      "source": [
        "heights_median = np.median(heights)\n",
        "print(f'Median for given height data is {heights_median}')"
      ],
      "metadata": {
        "colab": {
          "base_uri": "https://localhost:8080/"
        },
        "id": "quPu2-F2wFWZ",
        "outputId": "56ad6668-9972-44d2-a2b0-0d609885f840"
      },
      "execution_count": 3,
      "outputs": [
        {
          "output_type": "stream",
          "name": "stdout",
          "text": [
            "Median for given height data is 177.0\n"
          ]
        }
      ]
    },
    {
      "cell_type": "markdown",
      "source": [
        "3.Mode"
      ],
      "metadata": {
        "id": "DVTnOV9awOgL"
      }
    },
    {
      "cell_type": "code",
      "source": [
        "from scipy.stats import mode\n",
        "heights_mode = mode(heights,keepdims=False)\n",
        "print(f'Mode for given height data is {heights_mode}')"
      ],
      "metadata": {
        "colab": {
          "base_uri": "https://localhost:8080/"
        },
        "id": "8d_Uc52SwSU3",
        "outputId": "02d53769-ece7-4a8c-c9a4-84743beb980d"
      },
      "execution_count": 4,
      "outputs": [
        {
          "output_type": "stream",
          "name": "stdout",
          "text": [
            "Mode for given height data is ModeResult(mode=177.0, count=3)\n"
          ]
        }
      ]
    },
    {
      "cell_type": "markdown",
      "source": [
        "Q4. Find the standard deviation for the given data:\n",
        "[178,177,176,177,178.2,178,175,179,180,175,178.9,176.2,177,172.5,178,176.5]"
      ],
      "metadata": {
        "id": "7nZ13-U8wc4y"
      }
    },
    {
      "cell_type": "markdown",
      "source": [
        "Answer:-"
      ],
      "metadata": {
        "id": "ibcRFPcrweP_"
      }
    },
    {
      "cell_type": "code",
      "source": [
        "import numpy as np\n",
        "data = [178,177,176,177,178.2,178,175,179,180,175,178.9,176.2,177,172.5,178,176.5]\n",
        "data_std = np.std(data)\n",
        "print(f'Standard Deviation for give data is {round(data_std,4)}')"
      ],
      "metadata": {
        "colab": {
          "base_uri": "https://localhost:8080/"
        },
        "id": "HuROIp1EwWON",
        "outputId": "69b8314d-2b6b-447a-c080-0be3bf291e1c"
      },
      "execution_count": 5,
      "outputs": [
        {
          "output_type": "stream",
          "name": "stdout",
          "text": [
            "Standard Deviation for give data is 1.7886\n"
          ]
        }
      ]
    },
    {
      "cell_type": "markdown",
      "source": [
        "Q5. How are measures of dispersion such as range, variance, and standard deviation used to describe\n",
        "the spread of a dataset? Provide an example."
      ],
      "metadata": {
        "id": "W4eq5qVwwwjG"
      }
    },
    {
      "cell_type": "markdown",
      "source": [
        "Answer:-\n",
        "\n",
        "Measures of Dispersion: Range, Variance, and Standard Deviation\n",
        "\n",
        "1.Range\n",
        "Definition: The range is the difference between the highest and lowest values in a dataset.\n",
        "\n",
        "Usage: Provides a basic measure of how spread out the data points are.\n",
        "\n",
        "Example: If the heights of students in a class are [150, 160, 170, 180, 190], the range is 190 - 150 = 40. This tells us the overall spread from the smallest to the largest value.\n",
        "\n",
        "2.Variance\n",
        "Definition: Variance measures the average squared deviation of each data point from the mean.\n",
        "\n",
        "Usage: It quantifies the degree to which each number in the dataset differs from the mean, giving a sense of the spread of the data points.\n",
        "\n",
        "Example: Consider the data [2, 4, 6, 8, 10]. The mean is 6. The squared differences from the mean are (2-6)^2, (4-6)^2, (6-6)^2, (8-6)^2, and (10-6)^2, which are 16, 4, 0, 4, and 16 respectively. The variance is the average of these values: (16 + 4 + 0 + 4 + 16) / 5 = 8.\n",
        "\n",
        "3.Standard Deviation\n",
        "Definition: The standard deviation is the square root of the variance, providing a measure of the spread of data points around the mean.\n",
        "\n",
        "Usage: It is in the same units as the data and provides a more intuitive measure of spread compared to variance.\n",
        "\n",
        "Example: Using the variance from the previous example (8), the standard deviation is √8 ≈ 2.83. This indicates how much the individual data points typically differ from the mean.\n",
        "\n",
        "Example\n",
        "Consider a dataset representing the test scores of students in a class: [85, 90, 95, 100, 105].\n",
        "\n",
        "1.Range:\n",
        "\n",
        "Maximum score = 105\n",
        "\n",
        "Minimum score = 85\n",
        "\n",
        "Range = 105 - 85 = 20\n",
        "\n",
        "2.Variance:\n",
        "\n",
        "Mean score = (85 + 90 + 95 + 100 + 105) / 5 = 95\n",
        "\n",
        "Squared deviations from mean: (85-95)^2, (90-95)^2, (95-95)^2, (100-95)^2, (105-95)^2\n",
        "\n",
        "Values: 100, 25, 0, 25, 100\n",
        "\n",
        "Variance = (100 + 25 + 0 + 25 + 100) / 5 = 50\n",
        "\n",
        "3.Standard Deviation:\n",
        "\n",
        "Standard Deviation = √Variance = √50 ≈ 7.07"
      ],
      "metadata": {
        "id": "csjpISFYwxdl"
      }
    },
    {
      "cell_type": "markdown",
      "source": [
        "Q6. What is a Venn diagram?"
      ],
      "metadata": {
        "id": "IMPegecQxR4r"
      }
    },
    {
      "cell_type": "markdown",
      "source": [
        "Answer:-\n",
        "\n",
        "A Venn diagram is a visual representation that shows the relationships between different sets. It uses overlapping circles (or other shapes) to illustrate the logical relationships, similarities, and differences between the sets. Here’s a breakdown:\n",
        "\n",
        "Key Elements of a Venn Diagram\n",
        "\n",
        "1.Circles: Each circle represents a set.\n",
        "\n",
        "2.Overlap: The area where circles overlap shows the common elements shared by the sets.\n",
        "\n",
        "3.Non-overlapping Areas: These areas contain elements unique to each set.\n",
        "\n",
        "4.Universal Set: Sometimes a rectangle is drawn around the circles to represent the universal set, which includes all possible elements.\n",
        "\n",
        "Example\n",
        "\n",
        "Imagine a Venn diagram with two sets:\n",
        "\n",
        "Set A: People who like apples.\n",
        "\n",
        "Set B: People who like bananas.\n",
        "\n",
        "Non-overlapping part of Set A: People who like only apples.\n",
        "\n",
        "Non-overlapping part of Set B: People who like only bananas.\n",
        "\n",
        "Overlapping area: People who like both apples and bananas.\n",
        "\n",
        "Usage\n",
        "\n",
        "Venn diagrams are commonly used in:\n",
        "\n",
        "1.Mathematics: To show logical relationships between sets.\n",
        "\n",
        "2.Probability and Statistics: To visualize events and their intersections.\n",
        "\n",
        "3.Business and Education: For comparing and contrasting different concepts, ideas, or groups."
      ],
      "metadata": {
        "id": "muaIirXmxkay"
      }
    },
    {
      "cell_type": "markdown",
      "source": [
        "Q7. For the two given sets A = (2,3,4,5,6,7) & B = (0,2,6,8,10). Find:\n",
        "\n",
        "(i) A Union B\n",
        "\n",
        "(ii) A Intersection B"
      ],
      "metadata": {
        "id": "Lfe2446nyGaa"
      }
    },
    {
      "cell_type": "markdown",
      "source": [
        "Answer:-"
      ],
      "metadata": {
        "id": "REiMa14qyHj4"
      }
    },
    {
      "cell_type": "code",
      "source": [
        "A = {2,3,4,5,6,7}\n",
        "B = {0,2,6,8,10}"
      ],
      "metadata": {
        "id": "IJtmzJ7DwqYQ"
      },
      "execution_count": 6,
      "outputs": []
    },
    {
      "cell_type": "code",
      "source": [
        "A,B"
      ],
      "metadata": {
        "colab": {
          "base_uri": "https://localhost:8080/"
        },
        "id": "IH1ay99oyTjb",
        "outputId": "6c12a894-9698-4fb7-a7f0-4860456159b0"
      },
      "execution_count": 8,
      "outputs": [
        {
          "output_type": "execute_result",
          "data": {
            "text/plain": [
              "({2, 3, 4, 5, 6, 7}, {0, 2, 6, 8, 10})"
            ]
          },
          "metadata": {},
          "execution_count": 8
        }
      ]
    },
    {
      "cell_type": "markdown",
      "source": [
        "1. A Union B"
      ],
      "metadata": {
        "id": "toHR5Sh_ycLQ"
      }
    },
    {
      "cell_type": "code",
      "source": [
        "A.union(B)"
      ],
      "metadata": {
        "colab": {
          "base_uri": "https://localhost:8080/"
        },
        "id": "5VZ_nqtfyU9y",
        "outputId": "e606854e-39e7-4246-a859-8765a417ce59"
      },
      "execution_count": 9,
      "outputs": [
        {
          "output_type": "execute_result",
          "data": {
            "text/plain": [
              "{0, 2, 3, 4, 5, 6, 7, 8, 10}"
            ]
          },
          "metadata": {},
          "execution_count": 9
        }
      ]
    },
    {
      "cell_type": "markdown",
      "source": [
        "2. A Intersection B"
      ],
      "metadata": {
        "id": "mEP9M17ly-vA"
      }
    },
    {
      "cell_type": "code",
      "source": [
        "A.intersection(B)"
      ],
      "metadata": {
        "colab": {
          "base_uri": "https://localhost:8080/"
        },
        "id": "lQTJasBOy5oG",
        "outputId": "5d77e36f-beb3-4ac1-eccb-8173eff9deb3"
      },
      "execution_count": 10,
      "outputs": [
        {
          "output_type": "execute_result",
          "data": {
            "text/plain": [
              "{2, 6}"
            ]
          },
          "metadata": {},
          "execution_count": 10
        }
      ]
    },
    {
      "cell_type": "markdown",
      "source": [
        "Q8. What do you understand about skewness in data?"
      ],
      "metadata": {
        "id": "jqjCVF4hzVpQ"
      }
    },
    {
      "cell_type": "markdown",
      "source": [
        "Answer:-\n",
        "\n",
        "Skewness of data is a measure of the asymmetry of a probability distribution or dataset. It describes the extent to which a dataset is skewed or \"lopsided\" relative to a normal distribution. A distribution is said to be skewed if one of its tails is longer or heavier than the other, causing it to deviate from a perfectly symmetrical shape.\n",
        "\n",
        "Positive skewness occurs when the tail on the right side of the distribution is longer or heavier than the tail on the left side. This indicates that the dataset has more high values and fewer low values.\n",
        "Negative skewness occurs when the tail on the left side of the distribution is longer or heavier than the tail on the right side. This indicates that the dataset has more low values and fewer high values.\n",
        "\n",
        "Skewness can be measured using the skewness statistic. A skewness value of zero indicates that the dataset is perfectly symmetrical, while a positive or negative value indicates that the dataset is skewed in the corresponding direction. Skewness can be an important consideration when interpreting data, as it can affect the accuracy of statistical tests and the validity of certain assumptions about the data.\n"
      ],
      "metadata": {
        "id": "9d_jpVBUzt4y"
      }
    },
    {
      "cell_type": "markdown",
      "source": [
        "Q9. If a data is right skewed then what will be the position of median with respect to mean?"
      ],
      "metadata": {
        "id": "TLZRswO0z98C"
      }
    },
    {
      "cell_type": "markdown",
      "source": [
        "Answer:-\n",
        "\n",
        "In a right-skewed (positively skewed) distribution, the mean is typically greater than the median. This occurs because the tail on the right side of the distribution stretches further out, pulling the mean towards the higher values.\n",
        "\n",
        "Position of Median with Respect to Mean:\n",
        "\n",
        "Mean: The average of all data points, which is influenced by the higher values in the tail.\n",
        "\n",
        "Median: The middle value of the dataset when it is ordered, which is less affected by the extreme values.\n",
        "\n",
        "In right-skewed data:\n",
        "\n",
        "Mean > Median\n",
        "\n",
        "This relationship helps in identifying the skewness of a dataset and understanding its distribution."
      ],
      "metadata": {
        "id": "aoeP7TM90Eni"
      }
    },
    {
      "cell_type": "markdown",
      "source": [
        "Q10. Explain the difference between covariance and correlation. How are these measures used in\n",
        "statistical analysis?"
      ],
      "metadata": {
        "id": "qaoEolSD0SbC"
      }
    },
    {
      "cell_type": "markdown",
      "source": [
        "Answer :\n",
        "\n",
        "Covariance and Correlation: Understanding the Difference\n",
        "\n",
        "1.Covariance : Covariance measures the extent to which two variables vary together. Specifically, it measures the degree to which two variables deviate from their means in similar ways. Mathematically, the covariance between two variables X and Y is calculated as follows:\n",
        "\n",
        "cov(X,Y) = E[(X - E[X])(Y - E[Y])]\n",
        "\n",
        "The value of the covariance can range from negative infinity to positive infinity. A positive covariance indicates that the two variables tend to move in the same direction, while a negative covariance indicates that the two variables tend to move in opposite directions. A covariance of zero indicates\n",
        "that the two variables are uncorrelated.\n",
        "\n",
        "2.Correlation : Correlation, on the other hand, is a standardized measure of the linear relationship between two variables. Correlation takes on values between -1 and 1, where a correlation of 1 indicates a perfect positive relationship, a correlation of -1 indicates a perfect negative relationship, and a correlation of 0 indicates no linear relationship.\n",
        "The correlation coefficient between two variables X and Y is calculated as follows:\n",
        "\n",
        "corr(X,Y) = cov(X,Y) / (SD[X]*SD[Y])\n",
        "\n",
        "Correlation is a more commonly used measure than covariance, because it is standardized and easier to interpret. Correlation can also be used to compare the strength of the relationship between different pairs of variables on a common scale."
      ],
      "metadata": {
        "id": "5oePQ_n_0iOp"
      }
    },
    {
      "cell_type": "markdown",
      "source": [
        "Q11. What is the formula for calculating the sample mean? Provide an example calculation for a\n",
        "dataset."
      ],
      "metadata": {
        "id": "zKxRGl6z01AK"
      }
    },
    {
      "cell_type": "markdown",
      "source": [
        "Answer :\n",
        "\n",
        "The formula for calculating the sample mean is:\n",
        "\n",
        "x̄ = (x₁ + x₂ + ... + xn) / n\n",
        "\n",
        "where x₁, x₂, ..., xn are the values in the dataset, and n is the number of values in the sample.\n",
        "\n",
        "Consider below 5 Values were sampled from a larger dataset\n",
        "\n",
        "Sample: 4, 6, 2, 9, 5\n",
        "\n",
        "x̄ = (4 + 6 + 2 + 9 + 5) / 5\n",
        "x̄ = 26 / 5\n",
        "x̄ = 5.2"
      ],
      "metadata": {
        "id": "09-K0qH_01pR"
      }
    },
    {
      "cell_type": "markdown",
      "source": [],
      "metadata": {
        "id": "Tk6rZtiW1oLR"
      }
    },
    {
      "cell_type": "markdown",
      "source": [
        "Q12. For a normal distribution data what is the relationship between its measure of central tendency?"
      ],
      "metadata": {
        "id": "vg5bKXLX1IWZ"
      }
    },
    {
      "cell_type": "markdown",
      "source": [
        "Answer:-\n",
        "\n",
        "In a normal distribution, the measures of central tendency—mean, median, and mode—are all equal and located at the center of the distribution. This property is due to the symmetrical nature of a normal distribution.\n",
        "\n",
        "Relationship in a Normal\n",
        "\n",
        "1.Mean: The average value of all data points.\n",
        "\n",
        "2.Median: The middle value that separates the higher half from the lower half of the data.\n",
        "\n",
        "3.Mode: The most frequently occurring value in the dataset.\n",
        "\n",
        "Key Points\n",
        "\n",
        "1.Symmetry: In a normal distribution, the left and right sides are mirror images.\n",
        "\n",
        "2.Equality: Mean = Median = Mode.\n",
        "\n",
        "3.Bell Shape: The distribution forms a bell curve, where the highest point is at the mean, median, and mode."
      ],
      "metadata": {
        "id": "DZ_GpYD22JzR"
      }
    },
    {
      "cell_type": "markdown",
      "source": [
        "Q13. How is covariance different from correlation?"
      ],
      "metadata": {
        "id": "i07S-exI2t7c"
      }
    },
    {
      "cell_type": "markdown",
      "source": [
        "Answer:- Difference in Covariance and Correlation is as follows :\n",
        "\n",
        "1.Covariance:\n",
        "\n",
        "Definition: Measures how two variables change together.\n",
        "\n",
        "Scale: Depends on the units of the variables, making it difficult to interpret.\n",
        "\n",
        "Range: No fixed range.\n",
        "\n",
        "Interpretation: Positive covariance indicates variables tend to increase together, while negative covariance indicates one variable tends to decrease as the other increases.\n",
        "\n",
        "2.Correlation:\n",
        "\n",
        "Definition: Measures the strength and direction of a linear relationship between two variables.\n",
        "\n",
        "Scale: Standardized, making it easier to interpret.\n",
        "\n",
        "Range: Ranges from -1 to 1.\n",
        "\n",
        "Interpretation:\n",
        "\n",
        "+1 indicates a perfect positive linear relationship.\n",
        "\n",
        "-1 indicates a perfect negative linear relationship.\n",
        "\n",
        "0 indicates no linear relationship.\n",
        "\n",
        "Summary\n",
        "\n",
        "Covariance tells you whether variables change together, but is hard to interpret due to its dependence on units.\n",
        "\n",
        "Correlation standardizes this relationship, making it easier to understand and compare across different datasets."
      ],
      "metadata": {
        "id": "f2c-X94D3k08"
      }
    },
    {
      "cell_type": "markdown",
      "source": [
        "Q14. How do outliers affect measures of central tendency and dispersion? Provide an example."
      ],
      "metadata": {
        "id": "N0SJZeE74MuZ"
      }
    },
    {
      "cell_type": "markdown",
      "source": [
        "Answer:-Outliers can significantly affect measures of central tendency and dispersion by skewing results and providing a misleading view of the dataset.\n",
        "\n",
        "Measures of Central Tendency\n",
        "\n",
        "1.Mean:\n",
        "\n",
        "Effect: The mean is highly sensitive to outliers because it considers every data point. An outlier can drag the mean towards itself, resulting in a higher or lower mean than expected.\n",
        "\n",
        "Example: Consider the data set [10, 12, 14, 16, 100]. The mean without the outlier 100 is (10 + 12 + 14 + 16) / 4 = 13. With the outlier, the mean is (10 + 12 + 14 + 16 + 100) / 5 = 30.4. The outlier significantly raises the mean.\n",
        "\n",
        "2.Median:\n",
        "\n",
        "Effect: The median is less affected by outliers because it only considers the middle value of the sorted data.\n",
        "\n",
        "Example: Using the same data set [10, 12, 14, 16, 100], the median is 14, regardless of the outlier. This shows the median's robustness against outliers.\n",
        "\n",
        "3.Mode:\n",
        "\n",
        "Effect: The mode is not affected by outliers unless the outlier value is the most frequent one.\n",
        "\n",
        "Example: In the data set [10, 10, 14, 16, 100], the mode is 10, which remains unaffected by the outlier 100.\n",
        "\n",
        "Measures of Dispersion\n",
        "\n",
        "1.Range:\n",
        "\n",
        "Effect: The range is highly sensitive to outliers as it directly depends on the minimum and maximum values.\n",
        "\n",
        "Example: For the data set [10, 12, 14, 16, 100], the range is 100 - 10 = 90. Without the outlier, the range is 16 - 10 = 6.\n",
        "\n",
        "2.Variance and Standard Deviation:\n",
        "\n",
        "Effect: Both variance and standard deviation are sensitive to outliers because they involve squaring the deviations from the mean. Outliers can inflate these measures significantly.\n",
        "\n",
        "Example: For the data set [10, 12, 14, 16, 100], the variance and standard deviation are much larger than for the set without the outlier, reflecting the increased spread due to the outlier."
      ],
      "metadata": {
        "id": "C9jN4xzU4UIh"
      }
    }
  ]
}